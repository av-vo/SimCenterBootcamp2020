{
 "cells": [
  {
   "cell_type": "markdown",
   "metadata": {},
   "source": [
    "# Exercise 2: numpy"
   ]
  },
  {
   "cell_type": "code",
   "execution_count": 1,
   "metadata": {},
   "outputs": [],
   "source": [
    "import numpy as np"
   ]
  },
  {
   "cell_type": "markdown",
   "metadata": {},
   "source": [
    "## Problem 1: \n",
    "\n",
    "Compute\n",
    "$$\n",
    "   \\left[ \\begin{array}{ccc}\n",
    "   3 &  2 & 1 \\\\\n",
    "   6 & -3 & 0 \\\\\n",
    "   1 &  2 & 9 \\\\\n",
    "   \\end{array} \\right]\n",
    "   \\left[ \\begin{array}{ccc}\n",
    "   -4 & 1 \\\\\n",
    "    7 & 3 \\\\\n",
    "    2 & 5 \\\\\n",
    "   \\end{array} \\right]\n",
    "$$\n",
    "using **matrix** objects"
   ]
  },
  {
   "cell_type": "code",
   "execution_count": 2,
   "metadata": {},
   "outputs": [
    {
     "name": "stdout",
     "output_type": "stream",
     "text": [
      "[[  4  14]\n",
      " [-45  -3]\n",
      " [ 28  52]]\n"
     ]
    }
   ],
   "source": [
    "################\n",
    "# your solution\n",
    "################\n",
    "\n",
    "A = np.matrix([[3,2,1],[6,-3,0],[1,2,9]])\n",
    "B = np.matrix([[-4,1], [7,3], [2,5]])\n",
    "C = A*B\n",
    "\n",
    "print(C)"
   ]
  },
  {
   "cell_type": "markdown",
   "metadata": {},
   "source": [
    "Compute\n",
    "$$\n",
    "   \\left[ \\begin{array}{ccc}\n",
    "   3 &  2 & 1 \\\\\n",
    "   6 & -3 & 0 \\\\\n",
    "   1 &  2 & 9 \\\\\n",
    "   \\end{array} \\right]\n",
    "   \\left[ \\begin{array}{ccc}\n",
    "   -4 & 1 \\\\\n",
    "    7 & 3 \\\\\n",
    "    2 & 5 \\\\\n",
    "   \\end{array} \\right]\n",
    "$$\n",
    "using **array** objects"
   ]
  },
  {
   "cell_type": "code",
   "execution_count": 3,
   "metadata": {},
   "outputs": [
    {
     "name": "stdout",
     "output_type": "stream",
     "text": [
      "[[  4  14]\n",
      " [-45  -3]\n",
      " [ 28  52]]\n"
     ]
    }
   ],
   "source": [
    "D = np.array([[3,2,1],[6,-3,0],[1,2,9]])\n",
    "E = np.array([[-4,1], [7,3], [2,5]])\n",
    "F = D@E\n",
    "\n",
    "print(F)"
   ]
  },
  {
   "cell_type": "markdown",
   "metadata": {},
   "source": [
    "## Problem 2: \n",
    "\n",
    "Numpy provides random number generators for different distributions.\n",
    "You can find simple examples at [https://numpy.org/doc/stable/reference/random/index.html](https://numpy.org/doc/stable/reference/random/index.html)\n",
    "\n",
    "1. Write a function that outputs a list of 250 numbers in a normal distribution with (approximately) mean of 2.5 and standard deviation of 0.75. (check [https://numpy.org/doc/stable/reference/random/generated/numpy.random.normal.html#numpy.random.normal](https://numpy.org/doc/stable/reference/random/generated/numpy.random.normal.html#numpy.random.normal))\n",
    "2. Write a loop that uses this function to create 10 instances of such lists. Compute the actual mean and standard deviation and print them.\n",
    "3. Verify that the answers are indeed random by running your code multiple times."
   ]
  },
  {
   "cell_type": "code",
   "execution_count": 37,
   "metadata": {},
   "outputs": [
    {
     "name": "stdout",
     "output_type": "stream",
     "text": [
      "mean 2.499180710180253, std 0.7256600579665619\n"
     ]
    }
   ],
   "source": [
    "################\n",
    "# your solution\n",
    "################\n",
    "#rand = np.random.normal(2.5, .75, 250)\n",
    "\n",
    "rand = np.zeros([10, 250])\n",
    "\n",
    "for i in range(10):\n",
    "    rand[i] = np.random.normal(2.5, .75, 250)\n",
    "    \n",
    "m = np.mean(rand)\n",
    "std = np.std(rand)\n",
    "\n",
    "print('mean {}, std {}'.format(m, std))"
   ]
  },
  {
   "cell_type": "markdown",
   "metadata": {},
   "source": [
    "## Problem 3: \n",
    "\n",
    "1. Compute and print the eigenvalues, $\\lambda_i$, and eigenvectors, ${\\bf n}_i$, of\n",
    "$$\n",
    "   {\\bf A} =\n",
    "   \\left[ \\begin{array}{ccccc}\n",
    "   3 & 2 & 1 & 0 & 0 \\\\\n",
    "   2 & 3 & 2 & 1 & 0 \\\\\n",
    "   1 & 2 & 3 & 2 & 1 \\\\\n",
    "   0 & 1 & 2 & 3 & 2 \\\\\n",
    "   0 & 0 & 1 & 2 & 3 \n",
    "   \\end{array} \\right]\n",
    "$$\n",
    "2. Show that\n",
    "$$\n",
    "   {\\rm det}({\\bf A}) = \\prod_{i=1}^5 \\lambda_i\n",
    "$$\n",
    "3. Verify the following relation\n",
    "$$\n",
    "   {\\bf A} = \\sum_{i=1}^{5} \\lambda_i\\,{\\bf n}_i\\otimes{\\bf n}_i\n",
    "$$"
   ]
  },
  {
   "cell_type": "code",
   "execution_count": 38,
   "metadata": {},
   "outputs": [],
   "source": [
    "################\n",
    "# your solution\n",
    "################\n",
    "A = np.array([\n",
    "    [3,2,1,0,0],\n",
    "   [2,3,2,1,0],\n",
    "   [1,2,3,2,1],\n",
    "   [0,1,2,3,2],\n",
    "   [0,0,1,2,3]\n",
    "])\n",
    "(lam,vec)=np.linalg.eig(A)"
   ]
  },
  {
   "cell_type": "code",
   "execution_count": 39,
   "metadata": {},
   "outputs": [
    {
     "name": "stdout",
     "output_type": "stream",
     "text": [
      "[7.65427349 4.56155281 1.74770274 0.43844719 0.59802377]\n"
     ]
    }
   ],
   "source": [
    "print(lam)"
   ]
  },
  {
   "cell_type": "code",
   "execution_count": 40,
   "metadata": {
    "scrolled": true
   },
   "outputs": [
    {
     "name": "stdout",
     "output_type": "stream",
     "text": [
      "[[ 3.28733703e-01  5.57345410e-01  6.17548407e-01  4.35162146e-01\n",
      "   1.02801351e-01]\n",
      " [ 4.85676469e-01  4.35162146e-01 -1.78297793e-01 -5.57345410e-01\n",
      "  -4.82004424e-01]\n",
      " [ 5.58663621e-01 -6.11410290e-16 -4.16758592e-01 -3.92388876e-15\n",
      "   7.17082447e-01]\n",
      " [ 4.85676469e-01 -4.35162146e-01 -1.78297793e-01  5.57345410e-01\n",
      "  -4.82004424e-01]\n",
      " [ 3.28733703e-01 -5.57345410e-01  6.17548407e-01 -4.35162146e-01\n",
      "   1.02801351e-01]]\n"
     ]
    }
   ],
   "source": [
    "print(vec)"
   ]
  },
  {
   "cell_type": "code",
   "execution_count": 44,
   "metadata": {
    "scrolled": true
   },
   "outputs": [
    {
     "name": "stdout",
     "output_type": "stream",
     "text": [
      "16.000000000000007\n"
     ]
    }
   ],
   "source": [
    "det = np.linalg.det(A)\n",
    "print(det)"
   ]
  },
  {
   "cell_type": "code",
   "execution_count": 45,
   "metadata": {},
   "outputs": [
    {
     "ename": "AttributeError",
     "evalue": "module 'numpy' has no attribute 'mult'",
     "output_type": "error",
     "traceback": [
      "\u001b[0;31m------------------------------------------------------------------------\u001b[0m",
      "\u001b[0;31mAttributeError\u001b[0m                         Traceback (most recent call last)",
      "\u001b[0;32m<ipython-input-45-2e47bfca2e67>\u001b[0m in \u001b[0;36m<module>\u001b[0;34m\u001b[0m\n\u001b[0;32m----> 1\u001b[0;31m \u001b[0mnp\u001b[0m\u001b[0;34m.\u001b[0m\u001b[0mmult\u001b[0m\u001b[0;34m(\u001b[0m\u001b[0mlam\u001b[0m\u001b[0;34m)\u001b[0m\u001b[0;34m\u001b[0m\u001b[0;34m\u001b[0m\u001b[0m\n\u001b[0m",
      "\u001b[0;31mAttributeError\u001b[0m: module 'numpy' has no attribute 'mult'"
     ]
    }
   ],
   "source": [
    "np.mult(lam)"
   ]
  }
 ],
 "metadata": {
  "kernelspec": {
   "display_name": "Python 3",
   "language": "python",
   "name": "python3"
  },
  "language_info": {
   "codemirror_mode": {
    "name": "ipython",
    "version": 3
   },
   "file_extension": ".py",
   "mimetype": "text/x-python",
   "name": "python",
   "nbconvert_exporter": "python",
   "pygments_lexer": "ipython3",
   "version": "3.6.9"
  }
 },
 "nbformat": 4,
 "nbformat_minor": 4
}
